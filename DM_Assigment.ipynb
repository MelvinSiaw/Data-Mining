{
 "cells": [
  {
   "cell_type": "code",
   "execution_count": 3,
   "id": "1033914f",
   "metadata": {},
   "outputs": [],
   "source": [
    "import pandas as pd\n",
    "import numpy as np"
   ]
  },
  {
   "cell_type": "code",
   "execution_count": 14,
   "id": "438b4b14",
   "metadata": {},
   "outputs": [
    {
     "name": "stdout",
     "output_type": "stream",
     "text": [
      "Original shape: (7178, 31)\n"
     ]
    }
   ],
   "source": [
    "df = pd.read_csv(\"Marital_satisfaction_Data.csv\", encoding='utf-8')\n",
    "print(\"Original shape:\", df.shape)"
   ]
  },
  {
   "cell_type": "code",
   "execution_count": 9,
   "id": "51b83f40",
   "metadata": {},
   "outputs": [],
   "source": [
    "df = df.loc[:, df.columns.notna()]  # remove unnamed/blank headers\n",
    "df = df.loc[:, df.columns.str.strip() != \"\"]  # remove empty header strings\n",
    "df = df.loc[:, ~df.columns.str.contains('^Unnamed')]  # remove 'Unnamed: X' columns"
   ]
  },
  {
   "cell_type": "code",
   "execution_count": 10,
   "id": "45d79ccd",
   "metadata": {},
   "outputs": [
    {
     "name": "stdout",
     "output_type": "stream",
     "text": [
      "Columns after cleaning: ['Country ', 'Sex', 'Age', 'Marriage_duration', 'Number_of_children', 'Num_brought_up_children', 'Education', 'Material status', 'Religion', 'Religiosity', 'Pension', 'MRQ', 'KMSS', 'GLOBE_survey']\n"
     ]
    }
   ],
   "source": [
    "# Display remaining columns\n",
    "print(\"Columns after cleaning:\", df.columns.tolist())"
   ]
  },
  {
   "cell_type": "code",
   "execution_count": 15,
   "id": "b72e302e",
   "metadata": {},
   "outputs": [
    {
     "name": "stdout",
     "output_type": "stream",
     "text": [
      "Filtered columns shape: (7178, 13)\n"
     ]
    }
   ],
   "source": [
    "relevant_columns = [\n",
    "    \"Country\", \"Sex\", \"Age\", \"Marriage_duration\", \"Number_of_children\", \n",
    "    \"Education\", \"Material status\", \"Religion\", \"Religiosity\", \"Pension\",\n",
    "    \"MRQ\", \"KMSS\", \"GLOBE_survey\"\n",
    "]\n",
    "df = df[relevant_columns]\n",
    "print(\"Filtered columns shape:\", df.shape)"
   ]
  },
  {
   "cell_type": "code",
   "execution_count": 13,
   "id": "2f38dabb",
   "metadata": {},
   "outputs": [
    {
     "name": "stdout",
     "output_type": "stream",
     "text": [
      "Actual column names:\n",
      "['Country ', 'Sex', 'Age', 'Marriage_duration', 'Number_of_children', 'Num_brought_up_children', 'Education', 'Material status', 'Religion', 'Religiosity', 'Pension', 'MRQ', 'KMSS', 'GLOBE_survey']\n"
     ]
    }
   ],
   "source": [
    "print(\"Actual column names:\")\n",
    "print(df.columns.tolist())"
   ]
  }
 ],
 "metadata": {
  "kernelspec": {
   "display_name": "Python 3",
   "language": "python",
   "name": "python3"
  },
  "language_info": {
   "codemirror_mode": {
    "name": "ipython",
    "version": 3
   },
   "file_extension": ".py",
   "mimetype": "text/x-python",
   "name": "python",
   "nbconvert_exporter": "python",
   "pygments_lexer": "ipython3",
   "version": "3.11.9"
  }
 },
 "nbformat": 4,
 "nbformat_minor": 5
}
