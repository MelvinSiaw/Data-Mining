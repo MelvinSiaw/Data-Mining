{
 "cells": [
  {
   "cell_type": "markdown",
   "id": "b9d32b07",
   "metadata": {},
   "source": [
    "# CDS6314 Data Mining Assignment – Group TT2L_G2\n",
    "\n",
    "# Association Rule Mining on Marital Satisfaction Dataset\n",
    "\n",
    "### Members: \n",
    "#### 242UC24514 Melvin Siaw Jian Cheng, \n",
    "#### 242UC24512 Chong Jien Sheng, \n",
    "#### 242UC24515 Tong Jian Hao, \n",
    "#### 1191202487 Ng Siew Yang"
   ]
  },
  {
   "cell_type": "markdown",
   "id": "f0188623",
   "metadata": {},
   "source": [
    "### Imports & Load Data"
   ]
  },
  {
   "cell_type": "code",
   "execution_count": 87,
   "id": "f527f75e",
   "metadata": {},
   "outputs": [],
   "source": [
    "import pandas as pd\n",
    "import numpy as np\n",
    "import matplotlib.pyplot as plt\n",
    "import seaborn as sns\n",
    "from mlxtend.preprocessing import TransactionEncoder\n",
    "from mlxtend.frequent_patterns import apriori, association_rules\n",
    "\n",
    "df = pd.read_csv('Marital-satisfaction_Data (1).csv')\n",
    "df.columns = df.columns.str.strip()  # remove trailing spaces"
   ]
  },
  {
   "cell_type": "code",
   "execution_count": 88,
   "id": "0b160d63",
   "metadata": {},
   "outputs": [
    {
     "data": {
      "text/html": [
       "<div>\n",
       "<style scoped>\n",
       "    .dataframe tbody tr th:only-of-type {\n",
       "        vertical-align: middle;\n",
       "    }\n",
       "\n",
       "    .dataframe tbody tr th {\n",
       "        vertical-align: top;\n",
       "    }\n",
       "\n",
       "    .dataframe thead th {\n",
       "        text-align: right;\n",
       "    }\n",
       "</style>\n",
       "<table border=\"1\" class=\"dataframe\">\n",
       "  <thead>\n",
       "    <tr style=\"text-align: right;\">\n",
       "      <th></th>\n",
       "      <th>Country</th>\n",
       "      <th>Gender</th>\n",
       "      <th>Age</th>\n",
       "      <th>Marriage_years</th>\n",
       "      <th>children</th>\n",
       "      <th>brought_up_children</th>\n",
       "      <th>Education</th>\n",
       "      <th>Material_status</th>\n",
       "      <th>Religion</th>\n",
       "      <th>Religiosity</th>\n",
       "      <th>...</th>\n",
       "      <th>KMSS2</th>\n",
       "      <th>KMSS3</th>\n",
       "      <th>Scale1</th>\n",
       "      <th>Scale2</th>\n",
       "      <th>Scale3</th>\n",
       "      <th>Scale4</th>\n",
       "      <th>Scale5</th>\n",
       "      <th>Scale6</th>\n",
       "      <th>Scale7</th>\n",
       "      <th>Scale8</th>\n",
       "    </tr>\n",
       "  </thead>\n",
       "  <tbody>\n",
       "    <tr>\n",
       "      <th>0</th>\n",
       "      <td>Brazil</td>\n",
       "      <td>1</td>\n",
       "      <td>21.0</td>\n",
       "      <td>2.0</td>\n",
       "      <td>0</td>\n",
       "      <td>0</td>\n",
       "      <td>5</td>\n",
       "      <td>0</td>\n",
       "      <td>1.0</td>\n",
       "      <td>4</td>\n",
       "      <td>...</td>\n",
       "      <td>7</td>\n",
       "      <td>7</td>\n",
       "      <td>1</td>\n",
       "      <td>1</td>\n",
       "      <td>1</td>\n",
       "      <td>1</td>\n",
       "      <td>1</td>\n",
       "      <td>1</td>\n",
       "      <td>1</td>\n",
       "      <td>1</td>\n",
       "    </tr>\n",
       "    <tr>\n",
       "      <th>1</th>\n",
       "      <td>Brazil</td>\n",
       "      <td>1</td>\n",
       "      <td>29.0</td>\n",
       "      <td>3.0</td>\n",
       "      <td>1</td>\n",
       "      <td>0</td>\n",
       "      <td>5</td>\n",
       "      <td>3</td>\n",
       "      <td>1.0</td>\n",
       "      <td>6</td>\n",
       "      <td>...</td>\n",
       "      <td>6</td>\n",
       "      <td>6</td>\n",
       "      <td>2</td>\n",
       "      <td>1</td>\n",
       "      <td>1</td>\n",
       "      <td>1</td>\n",
       "      <td>1</td>\n",
       "      <td>1</td>\n",
       "      <td>1</td>\n",
       "      <td>1</td>\n",
       "    </tr>\n",
       "    <tr>\n",
       "      <th>2</th>\n",
       "      <td>Brazil</td>\n",
       "      <td>1</td>\n",
       "      <td>30.0</td>\n",
       "      <td>7.0</td>\n",
       "      <td>0</td>\n",
       "      <td>0</td>\n",
       "      <td>5</td>\n",
       "      <td>3</td>\n",
       "      <td>1.0</td>\n",
       "      <td>4</td>\n",
       "      <td>...</td>\n",
       "      <td>7</td>\n",
       "      <td>7</td>\n",
       "      <td>2</td>\n",
       "      <td>1</td>\n",
       "      <td>2</td>\n",
       "      <td>1</td>\n",
       "      <td>1</td>\n",
       "      <td>1</td>\n",
       "      <td>1</td>\n",
       "      <td>1</td>\n",
       "    </tr>\n",
       "    <tr>\n",
       "      <th>3</th>\n",
       "      <td>Brazil</td>\n",
       "      <td>1</td>\n",
       "      <td>30.0</td>\n",
       "      <td>7.0</td>\n",
       "      <td>1</td>\n",
       "      <td>1</td>\n",
       "      <td>5</td>\n",
       "      <td>3</td>\n",
       "      <td>1.0</td>\n",
       "      <td>6</td>\n",
       "      <td>...</td>\n",
       "      <td>6</td>\n",
       "      <td>6</td>\n",
       "      <td>3</td>\n",
       "      <td>1</td>\n",
       "      <td>1</td>\n",
       "      <td>2</td>\n",
       "      <td>1</td>\n",
       "      <td>1</td>\n",
       "      <td>1</td>\n",
       "      <td>1</td>\n",
       "    </tr>\n",
       "    <tr>\n",
       "      <th>4</th>\n",
       "      <td>Brazil</td>\n",
       "      <td>1</td>\n",
       "      <td>28.0</td>\n",
       "      <td>9.0</td>\n",
       "      <td>0</td>\n",
       "      <td>0</td>\n",
       "      <td>4</td>\n",
       "      <td>2</td>\n",
       "      <td>1.0</td>\n",
       "      <td>5</td>\n",
       "      <td>...</td>\n",
       "      <td>6</td>\n",
       "      <td>7</td>\n",
       "      <td>3</td>\n",
       "      <td>2</td>\n",
       "      <td>3</td>\n",
       "      <td>2</td>\n",
       "      <td>1</td>\n",
       "      <td>1</td>\n",
       "      <td>1</td>\n",
       "      <td>1</td>\n",
       "    </tr>\n",
       "  </tbody>\n",
       "</table>\n",
       "<p>5 rows × 31 columns</p>\n",
       "</div>"
      ],
      "text/plain": [
       "  Country   Gender   Age  Marriage_years  children  brought_up_children  \\\n",
       "0  Brazil        1  21.0             2.0         0                    0   \n",
       "1  Brazil        1  29.0             3.0         1                    0   \n",
       "2  Brazil        1  30.0             7.0         0                    0   \n",
       "3  Brazil        1  30.0             7.0         1                    1   \n",
       "4  Brazil        1  28.0             9.0         0                    0   \n",
       "\n",
       "   Education  Material_status  Religion  Religiosity  ...  KMSS2  KMSS3  \\\n",
       "0          5                0       1.0            4  ...      7      7   \n",
       "1          5                3       1.0            6  ...      6      6   \n",
       "2          5                3       1.0            4  ...      7      7   \n",
       "3          5                3       1.0            6  ...      6      6   \n",
       "4          4                2       1.0            5  ...      6      7   \n",
       "\n",
       "   Scale1  Scale2  Scale3  Scale4  Scale5  Scale6  Scale7  Scale8  \n",
       "0       1       1       1       1       1       1       1       1  \n",
       "1       2       1       1       1       1       1       1       1  \n",
       "2       2       1       2       1       1       1       1       1  \n",
       "3       3       1       1       2       1       1       1       1  \n",
       "4       3       2       3       2       1       1       1       1  \n",
       "\n",
       "[5 rows x 31 columns]"
      ]
     },
     "execution_count": 88,
     "metadata": {},
     "output_type": "execute_result"
    }
   ],
   "source": [
    "import pandas as pd\n",
    "\n",
    "df = pd.read_csv(\"Marital-satisfaction_Data (1).csv\")\n",
    "df.head()"
   ]
  },
  {
   "cell_type": "code",
   "execution_count": 89,
   "id": "036072d1",
   "metadata": {},
   "outputs": [
    {
     "name": "stdout",
     "output_type": "stream",
     "text": [
      "<class 'pandas.core.frame.DataFrame'>\n",
      "RangeIndex: 7178 entries, 0 to 7177\n",
      "Data columns (total 31 columns):\n",
      " #   Column               Non-Null Count  Dtype  \n",
      "---  ------               --------------  -----  \n",
      " 0   Country              7178 non-null   object \n",
      " 1   Gender               7178 non-null   int64  \n",
      " 2   Age                  7178 non-null   float64\n",
      " 3   Marriage_years       7178 non-null   float64\n",
      " 4   children             7178 non-null   int64  \n",
      " 5   brought_up_children  7178 non-null   int64  \n",
      " 6   Education            7178 non-null   int64  \n",
      " 7   Material_status      7178 non-null   int64  \n",
      " 8   Religion             7092 non-null   float64\n",
      " 9   Religiosity          7178 non-null   int64  \n",
      " 10  Pension              7178 non-null   int64  \n",
      " 11  Love1                7178 non-null   int64  \n",
      " 12  happy                7178 non-null   int64  \n",
      " 13  Esteem1              7178 non-null   int64  \n",
      " 14  Love2                7178 non-null   int64  \n",
      " 15  Love3                7178 non-null   int64  \n",
      " 16  Esteem2              7178 non-null   int64  \n",
      " 17  self_R               7178 non-null   int64  \n",
      " 18  Love4                7178 non-null   int64  \n",
      " 19  Love5                7178 non-null   int64  \n",
      " 20  KMSS1                7178 non-null   int64  \n",
      " 21  KMSS2                7178 non-null   int64  \n",
      " 22  KMSS3                7178 non-null   int64  \n",
      " 23  Scale1               7178 non-null   int64  \n",
      " 24  Scale2               7178 non-null   int64  \n",
      " 25  Scale3               7178 non-null   int64  \n",
      " 26  Scale4               7178 non-null   int64  \n",
      " 27  Scale5               7178 non-null   int64  \n",
      " 28  Scale6               7178 non-null   int64  \n",
      " 29  Scale7               7178 non-null   int64  \n",
      " 30  Scale8               7178 non-null   int64  \n",
      "dtypes: float64(3), int64(27), object(1)\n",
      "memory usage: 1.7+ MB\n"
     ]
    },
    {
     "data": {
      "text/plain": [
       "Country                 0\n",
       "Gender                  0\n",
       "Age                     0\n",
       "Marriage_years          0\n",
       "children                0\n",
       "brought_up_children     0\n",
       "Education               0\n",
       "Material_status         0\n",
       "Religion               86\n",
       "Religiosity             0\n",
       "Pension                 0\n",
       "Love1                   0\n",
       "happy                   0\n",
       "Esteem1                 0\n",
       "Love2                   0\n",
       "Love3                   0\n",
       "Esteem2                 0\n",
       "self_R                  0\n",
       "Love4                   0\n",
       "Love5                   0\n",
       "KMSS1                   0\n",
       "KMSS2                   0\n",
       "KMSS3                   0\n",
       "Scale1                  0\n",
       "Scale2                  0\n",
       "Scale3                  0\n",
       "Scale4                  0\n",
       "Scale5                  0\n",
       "Scale6                  0\n",
       "Scale7                  0\n",
       "Scale8                  0\n",
       "dtype: int64"
      ]
     },
     "execution_count": 89,
     "metadata": {},
     "output_type": "execute_result"
    }
   ],
   "source": [
    "df.info()\n",
    "df.isnull().sum()"
   ]
  },
  {
   "cell_type": "code",
   "execution_count": 90,
   "id": "dbceba27",
   "metadata": {},
   "outputs": [
    {
     "name": "stdout",
     "output_type": "stream",
     "text": [
      "['Country ', 'Gender', 'Age', 'Marriage_years', 'children', 'brought_up_children', 'Education', 'Material_status', 'Religion', 'Religiosity', 'Pension', 'Love1', 'happy', 'Esteem1', 'Love2', 'Love3', 'Esteem2', 'self_R', 'Love4', 'Love5', 'KMSS1', 'KMSS2', 'KMSS3', 'Scale1', 'Scale2', 'Scale3', 'Scale4', 'Scale5', 'Scale6', 'Scale7', 'Scale8']\n"
     ]
    }
   ],
   "source": [
    "print(df.columns.tolist())"
   ]
  },
  {
   "cell_type": "code",
   "execution_count": 91,
   "id": "1208e858",
   "metadata": {},
   "outputs": [],
   "source": [
    "df[\"satisfaction_total\"] = df[[\"KMSS1\", \"KMSS2\", \"KMSS3\"]].sum(axis=1)"
   ]
  },
  {
   "cell_type": "code",
   "execution_count": 92,
   "id": "94ed796f",
   "metadata": {},
   "outputs": [],
   "source": [
    "def label_satisfaction(score):\n",
    "    if score >= 5:\n",
    "        return \"High\"\n",
    "    elif score <= 3:\n",
    "        return \"Low\"\n",
    "    else:\n",
    "        return \"Neutral\""
   ]
  },
  {
   "cell_type": "code",
   "execution_count": 93,
   "id": "6acd46a7",
   "metadata": {},
   "outputs": [],
   "source": [
    "df[\"satisfaction_label\"] = df[\"satisfaction_total\"].apply(label_satisfaction)\n",
    "df = df[df[\"satisfaction_label\"] != \"Neutral\"]  # Optional: drop neutral for binary classification"
   ]
  },
  {
   "cell_type": "code",
   "execution_count": 94,
   "id": "b71f8cf1",
   "metadata": {},
   "outputs": [],
   "source": [
    "selected_features = [\n",
    "    \"Gender\", \"Age\", \"Marriage_years\", \"children\", \"brought_up_children\",\n",
    "    \"Education\", \"Material_status\", \"Religion\", \"Religiosity\", \"Pension\",\n",
    "    \"Love1\", \"happy\", \"Esteem1\", \"Love2\", \"Love3\", \"Esteem2\", \"self_R\", \"Love4\", \"Love5\"\n",
    "]"
   ]
  },
  {
   "cell_type": "code",
   "execution_count": 95,
   "id": "7af15d92",
   "metadata": {},
   "outputs": [],
   "source": [
    "X = df[selected_features]\n",
    "y = df[\"satisfaction_label\"]"
   ]
  },
  {
   "cell_type": "code",
   "execution_count": 96,
   "id": "c1bb3ac9",
   "metadata": {},
   "outputs": [
    {
     "name": "stdout",
     "output_type": "stream",
     "text": [
      "(7151, 19) (7151,)\n"
     ]
    }
   ],
   "source": [
    "print(X.shape, y.shape)\n",
    "# Convert categorical variables to dummy/indicator variables"
   ]
  },
  {
   "cell_type": "markdown",
   "id": "8c67b8ef",
   "metadata": {},
   "source": [
    "### Encode"
   ]
  },
  {
   "cell_type": "code",
   "execution_count": 97,
   "id": "4b0e07ac",
   "metadata": {},
   "outputs": [],
   "source": [
    "from sklearn.preprocessing import LabelEncoder\n",
    "\n",
    "X_encoded = X.copy()\n",
    "\n",
    "# Encode non-numeric columns using LabelEncoder\n",
    "for col in X_encoded.columns:\n",
    "    if X_encoded[col].dtype == 'object' or X_encoded[col].dtype.name == 'category':\n",
    "        X_encoded[col] = LabelEncoder().fit_transform(X_encoded[col])"
   ]
  },
  {
   "cell_type": "code",
   "execution_count": 98,
   "id": "107a90de",
   "metadata": {},
   "outputs": [],
   "source": [
    "# Fill missing values with median (best practice)\n",
    "X_encoded = X_encoded.fillna(X_encoded.median(numeric_only=True))"
   ]
  },
  {
   "cell_type": "markdown",
   "id": "fa6f1c55",
   "metadata": {},
   "source": [
    "### Train Test Split + Scaling"
   ]
  },
  {
   "cell_type": "code",
   "execution_count": 99,
   "id": "84ffe0f3",
   "metadata": {},
   "outputs": [],
   "source": [
    "from sklearn.model_selection import train_test_split\n",
    "from sklearn.preprocessing import StandardScaler\n",
    "from sklearn.preprocessing import LabelEncoder\n",
    "\n",
    "label_encoder = LabelEncoder()\n",
    "y_encoded = label_encoder.fit_transform(y)\n",
    "\n",
    "X_train, X_test, y_train, y_test = train_test_split(\n",
    "    X_encoded, y_encoded, test_size=0.3, random_state=42\n",
    ")\n",
    "\n",
    "scaler = StandardScaler()\n",
    "X_train_scaled = scaler.fit_transform(X_train)\n",
    "X_test_scaled = scaler.transform(X_test)\n"
   ]
  },
  {
   "cell_type": "code",
   "execution_count": 100,
   "id": "dad8518e",
   "metadata": {},
   "outputs": [
    {
     "data": {
      "text/plain": [
       "Gender                 0\n",
       "Age                    0\n",
       "Marriage_years         0\n",
       "children               0\n",
       "brought_up_children    0\n",
       "Education              0\n",
       "Material_status        0\n",
       "Religion               0\n",
       "Religiosity            0\n",
       "Pension                0\n",
       "Love1                  0\n",
       "happy                  0\n",
       "Esteem1                0\n",
       "Love2                  0\n",
       "Love3                  0\n",
       "Esteem2                0\n",
       "self_R                 0\n",
       "Love4                  0\n",
       "Love5                  0\n",
       "dtype: int64"
      ]
     },
     "execution_count": 100,
     "metadata": {},
     "output_type": "execute_result"
    }
   ],
   "source": [
    "X_encoded.isnull().sum()"
   ]
  },
  {
   "cell_type": "code",
   "execution_count": 101,
   "id": "2c1a84c3",
   "metadata": {},
   "outputs": [],
   "source": [
    "X_encoded = X_encoded.fillna(X_encoded.median(numeric_only=True))"
   ]
  },
  {
   "cell_type": "markdown",
   "id": "41a028d8",
   "metadata": {},
   "source": [
    "### Build Models\n",
    "#### Naive Bayes, Logistic Regression, Random Forest, XGBoost."
   ]
  },
  {
   "cell_type": "code",
   "execution_count": 102,
   "id": "9294b61f",
   "metadata": {},
   "outputs": [
    {
     "name": "stdout",
     "output_type": "stream",
     "text": [
      "                 Model  Accuracy  Precision    Recall  F1 Score\n",
      "0          Naive Bayes  0.918919   0.982177  0.918919  0.945280\n",
      "1  Logistic Regression  0.983225   0.976896  0.983225  0.977942\n",
      "2        Random Forest  0.984157   0.979649  0.984157  0.980241\n",
      "3              XGBoost  0.981361   0.974919  0.981361  0.977308\n",
      "4                  SVM  0.983691   0.978135  0.983691  0.977584\n"
     ]
    }
   ],
   "source": [
    "from sklearn.naive_bayes import GaussianNB\n",
    "from sklearn.linear_model import LogisticRegression\n",
    "from sklearn.ensemble import RandomForestClassifier\n",
    "from xgboost import XGBClassifier\n",
    "from sklearn.metrics import accuracy_score, precision_score, recall_score, f1_score\n",
    "from sklearn.svm import SVC\n",
    "\n",
    "# Define models\n",
    "models = {\n",
    "    \"Naive Bayes\": GaussianNB(),\n",
    "    \"Logistic Regression\": LogisticRegression(max_iter=500),\n",
    "    \"Random Forest\": RandomForestClassifier(),\n",
    "   \"XGBoost\": XGBClassifier(eval_metric='logloss'),\n",
    "   \"SVM\": SVC(kernel=\"rbf\", probability=True)\n",
    "}\n",
    "\n",
    "# Train and evaluate\n",
    "results = []\n",
    "\n",
    "for name, model in models.items():\n",
    "    model.fit(X_train_scaled, y_train)\n",
    "    y_pred = model.predict(X_test_scaled)\n",
    "    results.append({\n",
    "        \"Model\": name,\n",
    "        \"Accuracy\": accuracy_score(y_test, y_pred),\n",
    "        \"Precision\": precision_score(y_test, y_pred, average=\"weighted\"),\n",
    "        \"Recall\": recall_score(y_test, y_pred, average=\"weighted\"),\n",
    "        \"F1 Score\": f1_score(y_test, y_pred, average=\"weighted\")\n",
    "    })\n",
    "\n",
    "# Show results\n",
    "results_df = pd.DataFrame(results)\n",
    "print(results_df)\n"
   ]
  },
  {
   "cell_type": "code",
   "execution_count": 103,
   "id": "bab6bdaf",
   "metadata": {},
   "outputs": [
    {
     "data": {
      "image/png": "[encoded data removed]",
      "text/plain": [
       "<Figure size 640x480 with 2 Axes>"
      ]
     },
     "metadata": {},
     "output_type": "display_data"
    }
   ],
   "source": [
    "import seaborn as sns\n",
    "from sklearn.metrics import confusion_matrix\n",
    "\n",
    "best = models[\"Random Forest\"]      # replace if another is best\n",
    "y_best_pred = best.predict(X_test_scaled)\n",
    "\n",
    "cm = confusion_matrix(y_test, y_best_pred, labels=best.classes_)\n",
    "sns.heatmap(cm, annot=True, fmt=\"d\", \n",
    "            xticklabels=best.classes_, \n",
    "            yticklabels=best.classes_)\n",
    "plt.xlabel(\"Predicted\")\n",
    "plt.ylabel(\"True\")\n",
    "plt.title(\"Confusion Matrix – Random Forest\")\n",
    "plt.show()\n"
   ]
  },
  {
   "cell_type": "code",
   "execution_count": 104,
   "id": "4eb3f136",
   "metadata": {},
   "outputs": [
    {
     "data": {
      "image/png": "[encoded data removed]",
      "text/plain": [
       "<Figure size 800x600 with 1 Axes>"
      ]
     },
     "metadata": {},
     "output_type": "display_data"
    }
   ],
   "source": [
    "import matplotlib.pyplot as plt\n",
    "\n",
    "importances = best.feature_importances_\n",
    "feat_names = X_encoded.columns\n",
    "\n",
    "plt.figure(figsize=(8,6))\n",
    "plt.barh(feat_names, importances)\n",
    "plt.title(\"Feature Importance – Random Forest\")\n",
    "plt.show()\n"
   ]
  }
 ],
 "metadata": {
  "kernelspec": {
   "display_name": "Python 3",
   "language": "python",
   "name": "python3"
  },
  "language_info": {
   "codemirror_mode": {
    "name": "ipython",
    "version": 3
   },
   "file_extension": ".py",
   "mimetype": "text/x-python",
   "name": "python",
   "nbconvert_exporter": "python",
   "pygments_lexer": "ipython3",
   "version": "3.11.9"
  }
 },
 "nbformat": 4,
 "nbformat_minor": 5
}
